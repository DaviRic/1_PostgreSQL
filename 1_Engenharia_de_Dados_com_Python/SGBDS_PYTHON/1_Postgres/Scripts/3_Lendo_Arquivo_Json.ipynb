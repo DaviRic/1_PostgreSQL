{
 "cells": [
  {
   "cell_type": "code",
   "execution_count": null,
   "metadata": {},
   "outputs": [],
   "source": [
    "# Simulando erro obs.: se tiver encoding utf-8 o pandas le sem precisar passar parâmetro encoding\n",
    "import pandas as pd\n",
    "pd.set_option('display.max_columns', None) # Ver todas as colunas\n",
    "caminho_do_arquivo = r\"C:\\Users\\Cliente\\Desktop\\Engenharia_de_dados_com_Python\\Arquivo_meu\\Origem_de_dados\\V_OCORRENCIA_AMPLA.json\"\n",
    "df = pd.read_json(caminho_do_arquivo)\n",
    "df.head()"
   ]
  },
  {
   "cell_type": "code",
   "execution_count": null,
   "metadata": {},
   "outputs": [],
   "source": [
    "import pandas as pd\n",
    "caminho_do_arquivo = r\"C:\\Users\\Cliente\\Desktop\\Engenharia_de_dados_com_Python\\SGBDS - PYTHON\\Postgree\\V_OCORRENCIA_AMPLA.json\"\n",
    "df = pd.read_json(caminho_do_arquivo, encoding='utf-8-sig')\n",
    "df.head()"
   ]
  },
  {
   "cell_type": "markdown",
   "metadata": {},
   "source": [
    "### Carregando automaticamente encoding"
   ]
  },
  {
   "cell_type": "code",
   "execution_count": null,
   "metadata": {},
   "outputs": [],
   "source": [
    "import pandas as pd\n",
    "import codecs\n",
    "from chardet.universaldetector import UniversalDetector\n",
    "caminho_do_arquivo = r\"C:\\Users\\Cliente\\Desktop\\Engenharia_de_dados_com_Python\\SGBDS_PYTHON\\Postgree\\V_OCORRENCIA_AMPLA.json\"\n",
    "\n",
    "detector = UniversalDetector()\n",
    "\n",
    "with codecs.open(caminho_do_arquivo, 'rb') as arquivo:\n",
    "    for linha in arquivo:\n",
    "        detector.feed(linha)\n",
    "        if detector.feed(linha):\n",
    "            break\n",
    "\n",
    "detector.close()\n",
    "enconding_detectado = detector.result['encoding']\n",
    "\n",
    "print(enconding_detectado)\n",
    "\n",
    "df_json_automatico = pd.read_json(caminho_do_arquivo, encoding=enconding_detectado)\n",
    "df_json_automatico.head()"
   ]
  },
  {
   "cell_type": "code",
   "execution_count": null,
   "metadata": {},
   "outputs": [],
   "source": [
    "import pandas as pd\n",
    "import json\n",
    "import codecs\n",
    "\n",
    "caminho_do_arquivo = r\"C:\\Users\\Cliente\\Desktop\\Engenharia_de_dados_com_Python\\SGBDS_PYTHON\\Postgree\\V_OCORRENCIA_AMPLA.json\"\n",
    "\n",
    "with codecs.open(caminho_do_arquivo, 'r', encoding='utf-8') as arquivo:\n",
    "    data = json.load(arquivo)\n",
    "df_json = pd.json_normalize(data)\n",
    "df_json.head()"
   ]
  },
  {
   "cell_type": "code",
   "execution_count": null,
   "metadata": {},
   "outputs": [],
   "source": []
  }
 ],
 "metadata": {
  "kernelspec": {
   "display_name": "sgbds",
   "language": "python",
   "name": "python3"
  },
  "language_info": {
   "codemirror_mode": {
    "name": "ipython",
    "version": 3
   },
   "file_extension": ".py",
   "mimetype": "text/x-python",
   "name": "python",
   "nbconvert_exporter": "python",
   "pygments_lexer": "ipython3",
   "version": "3.10.2"
  }
 },
 "nbformat": 4,
 "nbformat_minor": 2
}
