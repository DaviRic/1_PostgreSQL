{
 "cells": [
  {
   "cell_type": "markdown",
   "metadata": {},
   "source": [
    "#### 1°: Importar json como DF"
   ]
  },
  {
   "cell_type": "code",
   "execution_count": 13,
   "metadata": {},
   "outputs": [],
   "source": [
    "import pandas as pd\n",
    "import psycopg2\n",
    "from datetime import datetime"
   ]
  },
  {
   "cell_type": "code",
   "execution_count": 14,
   "metadata": {},
   "outputs": [],
   "source": [
    "caminho_do_arquivo = r\"C:\\Users\\Cliente\\Desktop\\Engenharia_de_dados_com_Python\\SGBDS_PYTHON\\Postgree\\V_OCORRENCIA_AMPLA.json\"\n",
    "df = pd.read_json(caminho_do_arquivo, encoding='utf-8')"
   ]
  },
  {
   "cell_type": "markdown",
   "metadata": {},
   "source": [
    "#### 2°: Tratar os dados. Levar em considaração apenas as colunas: [\"Numero da ocorrencia\", \"Classificacao da ocorrencia\", \"Data da ocorrencia\", \"Municipio\", \"UF\", \"Regiao\"]"
   ]
  },
  {
   "cell_type": "code",
   "execution_count": 15,
   "metadata": {},
   "outputs": [],
   "source": [
    "colunas = [\"Numero_da_Ocorrencia\", \"Classificacao_da_Ocorrencia\", \"Data_da_Ocorrencia\", \"Municipio\", \"UF\", \"Regiao\", \"Nome_do_Fabricante\"]\n",
    "df = df[colunas] # Aqui eu tô pegando o meu dataframe e deixando somente com as colunas da variável colunas\n",
    "# df.rename(columns={'Classificacao_da_Ocorrência': 'Classificacao_da_Ocorrencia'}, inplace=True)"
   ]
  },
  {
   "cell_type": "markdown",
   "metadata": {},
   "source": [
    "#### 3°: Tirando o acento dos nomes das colunas"
   ]
  },
  {
   "cell_type": "markdown",
   "metadata": {},
   "source": [
    "#### 4°: Criando banco de dados e tabela \"**Foi feito pela interface do postgre**\""
   ]
  },
  {
   "cell_type": "markdown",
   "metadata": {},
   "source": [
    "#### 5°: Configurando a conexão com o Postgre\n",
    "#### 6°: Enviar dados para o Postgre"
   ]
  },
  {
   "cell_type": "markdown",
   "metadata": {},
   "source": [
    "#### 7°: Criar um DELETE da tabela para não ver histórico, mantendo em banco sempre os dados mais recentes"
   ]
  },
  {
   "cell_type": "code",
   "execution_count": null,
   "metadata": {},
   "outputs": [],
   "source": [
    "'''\n",
    "df[\"Data_da_Ocorrencia\"] = pd.to_datetime(df[\"Data_da_Ocorrencia\"]) # Convertendo para tipo data\n",
    "ano_atual = datetime.now().year\n",
    "df = df[df[\"Data_da_Ocorrencia\"].dt.year == ano_atual]\n",
    "'''"
   ]
  },
  {
   "cell_type": "code",
   "execution_count": 17,
   "metadata": {},
   "outputs": [],
   "source": [
    "dbname   = 'python'\n",
    "user     = 'postgres'\n",
    "password = 'senha123'\n",
    "host     = 'localhost'\n",
    "port     = '5432'\n",
    "\n",
    "# 5°: Conexão com o postgre\n",
    "conexao = psycopg2.connect(dbname=dbname,\n",
    "                        user=user,\n",
    "                        password=password,\n",
    "                        host=host,\n",
    "                        port=port)\n",
    "\n",
    "cursor = conexao.cursor()\n",
    "\n",
    "# 7°: Deletando a base de dados\n",
    "cursor.execute(\"DELETE FROM Anc\")\n",
    "\n",
    "# 6°: Enviar dados para o Postgre\n",
    "# Carga de dados\n",
    "for indice, coluna_df in df.iterrows():\n",
    "    cursor.execute(\"\"\"\n",
    "                    INSERT INTO Anc (\n",
    "                    Numero_da_Ocorrencia,\n",
    "                    Classificacao_da_ocorrencia,\n",
    "                    Data_da_ocorrencia,\n",
    "                    Municipio,\n",
    "                    UF,\n",
    "                    Regiao,\n",
    "                    Nome_do_fabricante\n",
    "                     ) VALUES (%s, %s, %s, %s, %s, %s, %s)\n",
    "                \"\"\", (\n",
    "                        coluna_df[\"Numero_da_Ocorrencia\"],\n",
    "                        coluna_df[\"Classificacao_da_Ocorrencia\"],\n",
    "                        coluna_df[\"Data_da_Ocorrencia\"],\n",
    "                        coluna_df[\"Municipio\"],\n",
    "                        coluna_df[\"UF\"],\n",
    "                        coluna_df[\"Regiao\"],\n",
    "                        coluna_df[\"Nome_do_Fabricante\"]\n",
    "                     )\n",
    "                  )\n",
    "conexao.commit()\n",
    "cursor.close()\n",
    "conexao.close()"
   ]
  },
  {
   "cell_type": "code",
   "execution_count": null,
   "metadata": {},
   "outputs": [],
   "source": []
  }
 ],
 "metadata": {
  "kernelspec": {
   "display_name": "sgbds",
   "language": "python",
   "name": "python3"
  },
  "language_info": {
   "codemirror_mode": {
    "name": "ipython",
    "version": 3
   },
   "file_extension": ".py",
   "mimetype": "text/x-python",
   "name": "python",
   "nbconvert_exporter": "python",
   "pygments_lexer": "ipython3",
   "version": "3.10.2"
  }
 },
 "nbformat": 4,
 "nbformat_minor": 2
}
