{
 "cells": [
  {
   "cell_type": "code",
   "execution_count": null,
   "metadata": {},
   "outputs": [],
   "source": [
    "import psycopg2\n",
    "dbname   = 'postgres'\n",
    "user     = 'postgres'\n",
    "password = 'senha123'\n",
    "host     = 'localhost'\n",
    "port     = '5432'\n",
    "\n",
    "\n",
    "conn = psycopg2.connect(dbname=dbname,\n",
    "                        user=user,\n",
    "                        password=password,\n",
    "                        host=host,\n",
    "                        port=port)\n",
    "\n",
    "cur = conn.cursor() # Cria um cursor para ser possível de manipular os dados\n",
    "\n",
    "# Comandos SQL Transact-sql\n",
    "\n",
    "conn.commit() # Validar as alterações que foram feitas e subir para o banco de dados\n",
    "\n",
    "# Fehca o cursor e a conexão\n",
    "cur.close()\n",
    "conn.close()"
   ]
  },
  {
   "cell_type": "code",
   "execution_count": null,
   "metadata": {},
   "outputs": [],
   "source": []
  }
 ],
 "metadata": {
  "kernelspec": {
   "display_name": "sgbds",
   "language": "python",
   "name": "python3"
  },
  "language_info": {
   "codemirror_mode": {
    "name": "ipython",
    "version": 3
   },
   "file_extension": ".py",
   "mimetype": "text/x-python",
   "name": "python",
   "nbconvert_exporter": "python",
   "pygments_lexer": "ipython3",
   "version": "3.10.2"
  }
 },
 "nbformat": 4,
 "nbformat_minor": 2
}
