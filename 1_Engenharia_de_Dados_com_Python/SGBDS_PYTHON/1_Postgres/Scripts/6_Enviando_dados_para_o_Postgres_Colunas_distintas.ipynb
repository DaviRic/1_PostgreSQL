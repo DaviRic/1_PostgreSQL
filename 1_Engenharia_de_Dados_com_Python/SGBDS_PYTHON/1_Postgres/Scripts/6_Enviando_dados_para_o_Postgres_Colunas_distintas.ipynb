{
 "cells": [
  {
   "cell_type": "markdown",
   "metadata": {},
   "source": [
    "#### 1°: Importar json como DF"
   ]
  },
  {
   "cell_type": "code",
   "execution_count": 6,
   "metadata": {},
   "outputs": [],
   "source": [
    "import pandas as pd\n",
    "import psycopg2"
   ]
  },
  {
   "cell_type": "code",
   "execution_count": 7,
   "metadata": {},
   "outputs": [],
   "source": [
    "caminho_do_arquivo = r\"C:\\Users\\Cliente\\Desktop\\Engenharia_de_dados_com_Python\\SGBDS_PYTHON\\Postgree\\V_OCORRENCIA_AMPLA.json\"\n",
    "df = pd.read_json(caminho_do_arquivo, encoding='utf-8')"
   ]
  },
  {
   "cell_type": "code",
   "execution_count": 8,
   "metadata": {},
   "outputs": [
    {
     "data": {
      "text/html": [
       "<div>\n",
       "<style scoped>\n",
       "    .dataframe tbody tr th:only-of-type {\n",
       "        vertical-align: middle;\n",
       "    }\n",
       "\n",
       "    .dataframe tbody tr th {\n",
       "        vertical-align: top;\n",
       "    }\n",
       "\n",
       "    .dataframe thead th {\n",
       "        text-align: right;\n",
       "    }\n",
       "</style>\n",
       "<table border=\"1\" class=\"dataframe\">\n",
       "  <thead>\n",
       "    <tr style=\"text-align: right;\">\n",
       "      <th></th>\n",
       "      <th>Numero_da_Ocorrencia</th>\n",
       "      <th>Numero_da_Ficha</th>\n",
       "      <th>Operador_Padronizado</th>\n",
       "      <th>Classificacao_da_Ocorrencia</th>\n",
       "      <th>Data_da_Ocorrencia</th>\n",
       "      <th>Hora_da_Ocorrencia</th>\n",
       "      <th>Municipio</th>\n",
       "      <th>UF</th>\n",
       "      <th>Regiao</th>\n",
       "      <th>Descricao_do_Tipo</th>\n",
       "      <th>...</th>\n",
       "      <th>Lesoes_Desconhecidas_Tripulantes</th>\n",
       "      <th>Lesoes_Desconhecidas_Passageiros</th>\n",
       "      <th>Lesoes_Desconhecidas_Terceiros</th>\n",
       "      <th>Modelo</th>\n",
       "      <th>CLS</th>\n",
       "      <th>Tipo_ICAO</th>\n",
       "      <th>PMD</th>\n",
       "      <th>Numero_de_Assentos</th>\n",
       "      <th>Nome_do_Fabricante</th>\n",
       "      <th>PSSO</th>\n",
       "    </tr>\n",
       "  </thead>\n",
       "  <tbody>\n",
       "    <tr>\n",
       "      <th>0</th>\n",
       "      <td>25626</td>\n",
       "      <td>202096550</td>\n",
       "      <td>MINIST.JUST.SECRET.NAC.DE SEG.PUB.</td>\n",
       "      <td>Acidente</td>\n",
       "      <td>2020-10-08</td>\n",
       "      <td>16:00</td>\n",
       "      <td>CORUMBÁ</td>\n",
       "      <td>MS</td>\n",
       "      <td>Centro-Oeste</td>\n",
       "      <td>FALHA OU MAU FUNCIONAMENTO DO MOTOR</td>\n",
       "      <td>...</td>\n",
       "      <td>NaN</td>\n",
       "      <td>NaN</td>\n",
       "      <td>NaN</td>\n",
       "      <td>AS 350 B2</td>\n",
       "      <td>H1T</td>\n",
       "      <td>AS50</td>\n",
       "      <td>2250.0</td>\n",
       "      <td>6.0</td>\n",
       "      <td>EUROCOPTER FRANCE</td>\n",
       "      <td>verdadeiro</td>\n",
       "    </tr>\n",
       "    <tr>\n",
       "      <th>1</th>\n",
       "      <td>26304</td>\n",
       "      <td>202056314</td>\n",
       "      <td>AERO AGRICOLA ROSARIENSE LTDA</td>\n",
       "      <td>Acidente</td>\n",
       "      <td>2020-12-09</td>\n",
       "      <td>21:30:00</td>\n",
       "      <td>SANT'ANA DO LIVRAMENTO</td>\n",
       "      <td>RS</td>\n",
       "      <td>Sul</td>\n",
       "      <td>COMBUSTÍVEL</td>\n",
       "      <td>...</td>\n",
       "      <td>NaN</td>\n",
       "      <td>NaN</td>\n",
       "      <td>NaN</td>\n",
       "      <td>A188B</td>\n",
       "      <td>L1P</td>\n",
       "      <td>C188</td>\n",
       "      <td>1905.0</td>\n",
       "      <td>1.0</td>\n",
       "      <td>CESSNA AIRCRAFT</td>\n",
       "      <td>verdadeiro</td>\n",
       "    </tr>\n",
       "    <tr>\n",
       "      <th>2</th>\n",
       "      <td>25763</td>\n",
       "      <td>202041291</td>\n",
       "      <td>KAIO GENARIO FERREIRA DE MELO</td>\n",
       "      <td>Acidente</td>\n",
       "      <td>2020-10-15</td>\n",
       "      <td>11:00</td>\n",
       "      <td>RIO CLARO</td>\n",
       "      <td>RJ</td>\n",
       "      <td>Sudeste</td>\n",
       "      <td>PERDA DE CONTROLE EM VOO</td>\n",
       "      <td>...</td>\n",
       "      <td>NaN</td>\n",
       "      <td>NaN</td>\n",
       "      <td>NaN</td>\n",
       "      <td>R44</td>\n",
       "      <td>H1P</td>\n",
       "      <td>R44</td>\n",
       "      <td>1088.0</td>\n",
       "      <td>4.0</td>\n",
       "      <td>ROBINSON HELICOPTER</td>\n",
       "      <td>verdadeiro</td>\n",
       "    </tr>\n",
       "  </tbody>\n",
       "</table>\n",
       "<p>3 rows × 45 columns</p>\n",
       "</div>"
      ],
      "text/plain": [
       "   Numero_da_Ocorrencia Numero_da_Ficha                Operador_Padronizado  \\\n",
       "0                 25626       202096550  MINIST.JUST.SECRET.NAC.DE SEG.PUB.   \n",
       "1                 26304       202056314       AERO AGRICOLA ROSARIENSE LTDA   \n",
       "2                 25763       202041291       KAIO GENARIO FERREIRA DE MELO   \n",
       "\n",
       "  Classificacao_da_Ocorrencia Data_da_Ocorrencia Hora_da_Ocorrencia  \\\n",
       "0                    Acidente         2020-10-08              16:00   \n",
       "1                    Acidente         2020-12-09           21:30:00   \n",
       "2                    Acidente         2020-10-15              11:00   \n",
       "\n",
       "                Municipio  UF        Regiao  \\\n",
       "0                 CORUMBÁ  MS  Centro-Oeste   \n",
       "1  SANT'ANA DO LIVRAMENTO  RS           Sul   \n",
       "2               RIO CLARO  RJ       Sudeste   \n",
       "\n",
       "                     Descricao_do_Tipo  ... Lesoes_Desconhecidas_Tripulantes  \\\n",
       "0  FALHA OU MAU FUNCIONAMENTO DO MOTOR  ...                              NaN   \n",
       "1                          COMBUSTÍVEL  ...                              NaN   \n",
       "2             PERDA DE CONTROLE EM VOO  ...                              NaN   \n",
       "\n",
       "  Lesoes_Desconhecidas_Passageiros Lesoes_Desconhecidas_Terceiros     Modelo  \\\n",
       "0                              NaN                            NaN  AS 350 B2   \n",
       "1                              NaN                            NaN      A188B   \n",
       "2                              NaN                            NaN        R44   \n",
       "\n",
       "   CLS Tipo_ICAO     PMD Numero_de_Assentos   Nome_do_Fabricante        PSSO  \n",
       "0  H1T      AS50  2250.0                6.0    EUROCOPTER FRANCE  verdadeiro  \n",
       "1  L1P      C188  1905.0                1.0      CESSNA AIRCRAFT  verdadeiro  \n",
       "2  H1P       R44  1088.0                4.0  ROBINSON HELICOPTER  verdadeiro  \n",
       "\n",
       "[3 rows x 45 columns]"
      ]
     },
     "execution_count": 8,
     "metadata": {},
     "output_type": "execute_result"
    }
   ],
   "source": [
    "df.head(3)"
   ]
  },
  {
   "cell_type": "markdown",
   "metadata": {},
   "source": [
    "#### 2°: Tratar os dados. Levar em considaração apenas as colunas: [\"Numero da ocorrencia\", \"Classificacao da ocorrencia\", \"Data da ocorrencia\", \"Municipio\", \"UF\", \"Regiao\"]"
   ]
  },
  {
   "cell_type": "code",
   "execution_count": 9,
   "metadata": {},
   "outputs": [],
   "source": [
    "colunas = [\"Numero_da_Ocorrencia\", \"Classificacao_da_Ocorrencia\", \"Data_da_Ocorrencia\", \"Municipio\", \"UF\", \"Regiao\", \"Nome_do_Fabricante\", \"Modelo\"]\n",
    "df = df[colunas] # Aqui eu tô pegando o meu dataframe e deixando somente com as colunas da variável colunas\n",
    "# df.rename(columns={'Classificacao_da_Ocorrência': 'Classificacao_da_Ocorrencia'}, inplace=True)"
   ]
  },
  {
   "cell_type": "markdown",
   "metadata": {},
   "source": [
    "#### 3°: Tirando o acento dos nomes das colunas"
   ]
  },
  {
   "cell_type": "markdown",
   "metadata": {},
   "source": [
    "#### 4°: Criando banco de dados e tabela \"**Foi feito pela interface do postgre**\""
   ]
  },
  {
   "cell_type": "markdown",
   "metadata": {},
   "source": [
    "#### 5°: Configurando a conexão com o Postgre\n",
    "#### 6°: Enviar dados para o Postgre"
   ]
  },
  {
   "cell_type": "markdown",
   "metadata": {},
   "source": [
    "#### 7°: Criar um DELETE da tabela para não ver histórico, mantendo em banco sempre os dados mais recentes"
   ]
  },
  {
   "cell_type": "code",
   "execution_count": 10,
   "metadata": {},
   "outputs": [],
   "source": [
    "dbname   = 'python'\n",
    "user     = 'postgres'\n",
    "password = 'senha123'\n",
    "host     = 'localhost'\n",
    "port     = '5432'\n",
    "\n",
    "# 5°: Conexão com o postgre\n",
    "conexao = psycopg2.connect(dbname=dbname,\n",
    "                        user=user,\n",
    "                        password=password,\n",
    "                        host=host,\n",
    "                        port=port)\n",
    "\n",
    "cursor = conexao.cursor()\n",
    "\n",
    "# 7°: Deletando a base de dados\n",
    "cursor.execute(\"DELETE FROM anac_mapeamento\")\n",
    "\n",
    "# 6°: Enviar dados para o Postgre\n",
    "# Carga de dados\n",
    "for indice, coluna_df in df.iterrows():\n",
    "    cursor.execute(\"\"\"\n",
    "                    INSERT INTO anac_mapeamento (\n",
    "                    ID,\n",
    "                    Classificacao_da_Ocorrencia,\n",
    "                    Dt_Ocorrencia,\n",
    "                    Municipio,\n",
    "                    UF,\n",
    "                    Regiao,\n",
    "                    Fabricante,\n",
    "                    Modelo\n",
    "                     ) VALUES (%s, %s, %s, %s, %s, %s, %s, %s)\n",
    "                \"\"\", (\n",
    "                        coluna_df[\"Numero_da_Ocorrencia\"],\n",
    "                        coluna_df[\"Classificacao_da_Ocorrencia\"],\n",
    "                        coluna_df[\"Data_da_Ocorrencia\"],\n",
    "                        coluna_df[\"Municipio\"],\n",
    "                        coluna_df[\"UF\"],\n",
    "                        coluna_df[\"Regiao\"],\n",
    "                        coluna_df[\"Nome_do_Fabricante\"],\n",
    "                        coluna_df[\"Modelo\"]\n",
    "                     )\n",
    "                  )\n",
    "conexao.commit()\n",
    "cursor.close()\n",
    "conexao.close()"
   ]
  },
  {
   "cell_type": "code",
   "execution_count": null,
   "metadata": {},
   "outputs": [],
   "source": []
  }
 ],
 "metadata": {
  "kernelspec": {
   "display_name": "sgbds",
   "language": "python",
   "name": "python3"
  },
  "language_info": {
   "codemirror_mode": {
    "name": "ipython",
    "version": 3
   },
   "file_extension": ".py",
   "mimetype": "text/x-python",
   "name": "python",
   "nbconvert_exporter": "python",
   "pygments_lexer": "ipython3",
   "version": "3.10.2"
  }
 },
 "nbformat": 4,
 "nbformat_minor": 2
}
