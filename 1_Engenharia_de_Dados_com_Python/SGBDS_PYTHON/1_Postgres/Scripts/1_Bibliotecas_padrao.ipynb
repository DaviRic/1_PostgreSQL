{
 "cells": [
  {
   "cell_type": "code",
   "execution_count": null,
   "metadata": {},
   "outputs": [],
   "source": [
    "'''\n",
    "pip install psycopg2 # Para a conexão com banco de dados PostgreSQL\n",
    "pip install openpyxl # Para trabalhar com arquivos excel (xlsx)\n",
    "pip install pandas   # Para manipulação e análise de dados (df)\n",
    "\n",
    "pip install upgrade pandas # Para upgrade\n",
    "'''"
   ]
  }
 ],
 "metadata": {
  "kernelspec": {
   "display_name": "base",
   "language": "python",
   "name": "python3"
  },
  "language_info": {
   "name": "python",
   "version": "3.11.7"
  }
 },
 "nbformat": 4,
 "nbformat_minor": 2
}
